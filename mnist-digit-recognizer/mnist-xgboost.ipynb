{
 "cells": [
  {
   "cell_type": "code",
   "execution_count": 1,
   "metadata": {},
   "outputs": [
    {
     "name": "stderr",
     "output_type": "stream",
     "text": [
      "/home/matteofu/miniconda3/envs/datascience/lib/python3.5/site-packages/sklearn/cross_validation.py:41: DeprecationWarning: This module was deprecated in version 0.18 in favor of the model_selection module into which all the refactored classes and functions are moved. Also note that the interface of the new CV iterators are different from that of this module. This module will be removed in 0.20.\n",
      "  \"This module will be removed in 0.20.\", DeprecationWarning)\n"
     ]
    }
   ],
   "source": [
    "from __future__ import division\n",
    "import numpy as np\n",
    "import xgboost as xgb\n",
    "import pandas as pd"
   ]
  },
  {
   "cell_type": "code",
   "execution_count": 2,
   "metadata": {},
   "outputs": [],
   "source": [
    "mnist = pd.read_csv('dataset/train.csv')"
   ]
  },
  {
   "cell_type": "code",
   "execution_count": 3,
   "metadata": {},
   "outputs": [
    {
     "data": {
      "text/html": [
       "<div>\n",
       "<style scoped>\n",
       "    .dataframe tbody tr th:only-of-type {\n",
       "        vertical-align: middle;\n",
       "    }\n",
       "\n",
       "    .dataframe tbody tr th {\n",
       "        vertical-align: top;\n",
       "    }\n",
       "\n",
       "    .dataframe thead th {\n",
       "        text-align: right;\n",
       "    }\n",
       "</style>\n",
       "<table border=\"1\" class=\"dataframe\">\n",
       "  <thead>\n",
       "    <tr style=\"text-align: right;\">\n",
       "      <th></th>\n",
       "      <th>label</th>\n",
       "      <th>pixel0</th>\n",
       "      <th>pixel1</th>\n",
       "      <th>pixel2</th>\n",
       "      <th>pixel3</th>\n",
       "      <th>pixel4</th>\n",
       "      <th>pixel5</th>\n",
       "      <th>pixel6</th>\n",
       "      <th>pixel7</th>\n",
       "      <th>pixel8</th>\n",
       "      <th>...</th>\n",
       "      <th>pixel774</th>\n",
       "      <th>pixel775</th>\n",
       "      <th>pixel776</th>\n",
       "      <th>pixel777</th>\n",
       "      <th>pixel778</th>\n",
       "      <th>pixel779</th>\n",
       "      <th>pixel780</th>\n",
       "      <th>pixel781</th>\n",
       "      <th>pixel782</th>\n",
       "      <th>pixel783</th>\n",
       "    </tr>\n",
       "  </thead>\n",
       "  <tbody>\n",
       "    <tr>\n",
       "      <th>0</th>\n",
       "      <td>1</td>\n",
       "      <td>0</td>\n",
       "      <td>0</td>\n",
       "      <td>0</td>\n",
       "      <td>0</td>\n",
       "      <td>0</td>\n",
       "      <td>0</td>\n",
       "      <td>0</td>\n",
       "      <td>0</td>\n",
       "      <td>0</td>\n",
       "      <td>...</td>\n",
       "      <td>0</td>\n",
       "      <td>0</td>\n",
       "      <td>0</td>\n",
       "      <td>0</td>\n",
       "      <td>0</td>\n",
       "      <td>0</td>\n",
       "      <td>0</td>\n",
       "      <td>0</td>\n",
       "      <td>0</td>\n",
       "      <td>0</td>\n",
       "    </tr>\n",
       "    <tr>\n",
       "      <th>1</th>\n",
       "      <td>0</td>\n",
       "      <td>0</td>\n",
       "      <td>0</td>\n",
       "      <td>0</td>\n",
       "      <td>0</td>\n",
       "      <td>0</td>\n",
       "      <td>0</td>\n",
       "      <td>0</td>\n",
       "      <td>0</td>\n",
       "      <td>0</td>\n",
       "      <td>...</td>\n",
       "      <td>0</td>\n",
       "      <td>0</td>\n",
       "      <td>0</td>\n",
       "      <td>0</td>\n",
       "      <td>0</td>\n",
       "      <td>0</td>\n",
       "      <td>0</td>\n",
       "      <td>0</td>\n",
       "      <td>0</td>\n",
       "      <td>0</td>\n",
       "    </tr>\n",
       "    <tr>\n",
       "      <th>2</th>\n",
       "      <td>1</td>\n",
       "      <td>0</td>\n",
       "      <td>0</td>\n",
       "      <td>0</td>\n",
       "      <td>0</td>\n",
       "      <td>0</td>\n",
       "      <td>0</td>\n",
       "      <td>0</td>\n",
       "      <td>0</td>\n",
       "      <td>0</td>\n",
       "      <td>...</td>\n",
       "      <td>0</td>\n",
       "      <td>0</td>\n",
       "      <td>0</td>\n",
       "      <td>0</td>\n",
       "      <td>0</td>\n",
       "      <td>0</td>\n",
       "      <td>0</td>\n",
       "      <td>0</td>\n",
       "      <td>0</td>\n",
       "      <td>0</td>\n",
       "    </tr>\n",
       "    <tr>\n",
       "      <th>3</th>\n",
       "      <td>4</td>\n",
       "      <td>0</td>\n",
       "      <td>0</td>\n",
       "      <td>0</td>\n",
       "      <td>0</td>\n",
       "      <td>0</td>\n",
       "      <td>0</td>\n",
       "      <td>0</td>\n",
       "      <td>0</td>\n",
       "      <td>0</td>\n",
       "      <td>...</td>\n",
       "      <td>0</td>\n",
       "      <td>0</td>\n",
       "      <td>0</td>\n",
       "      <td>0</td>\n",
       "      <td>0</td>\n",
       "      <td>0</td>\n",
       "      <td>0</td>\n",
       "      <td>0</td>\n",
       "      <td>0</td>\n",
       "      <td>0</td>\n",
       "    </tr>\n",
       "    <tr>\n",
       "      <th>4</th>\n",
       "      <td>0</td>\n",
       "      <td>0</td>\n",
       "      <td>0</td>\n",
       "      <td>0</td>\n",
       "      <td>0</td>\n",
       "      <td>0</td>\n",
       "      <td>0</td>\n",
       "      <td>0</td>\n",
       "      <td>0</td>\n",
       "      <td>0</td>\n",
       "      <td>...</td>\n",
       "      <td>0</td>\n",
       "      <td>0</td>\n",
       "      <td>0</td>\n",
       "      <td>0</td>\n",
       "      <td>0</td>\n",
       "      <td>0</td>\n",
       "      <td>0</td>\n",
       "      <td>0</td>\n",
       "      <td>0</td>\n",
       "      <td>0</td>\n",
       "    </tr>\n",
       "  </tbody>\n",
       "</table>\n",
       "<p>5 rows × 785 columns</p>\n",
       "</div>"
      ],
      "text/plain": [
       "   label  pixel0  pixel1  pixel2  pixel3  pixel4  pixel5  pixel6  pixel7  \\\n",
       "0      1       0       0       0       0       0       0       0       0   \n",
       "1      0       0       0       0       0       0       0       0       0   \n",
       "2      1       0       0       0       0       0       0       0       0   \n",
       "3      4       0       0       0       0       0       0       0       0   \n",
       "4      0       0       0       0       0       0       0       0       0   \n",
       "\n",
       "   pixel8    ...     pixel774  pixel775  pixel776  pixel777  pixel778  \\\n",
       "0       0    ...            0         0         0         0         0   \n",
       "1       0    ...            0         0         0         0         0   \n",
       "2       0    ...            0         0         0         0         0   \n",
       "3       0    ...            0         0         0         0         0   \n",
       "4       0    ...            0         0         0         0         0   \n",
       "\n",
       "   pixel779  pixel780  pixel781  pixel782  pixel783  \n",
       "0         0         0         0         0         0  \n",
       "1         0         0         0         0         0  \n",
       "2         0         0         0         0         0  \n",
       "3         0         0         0         0         0  \n",
       "4         0         0         0         0         0  \n",
       "\n",
       "[5 rows x 785 columns]"
      ]
     },
     "execution_count": 3,
     "metadata": {},
     "output_type": "execute_result"
    }
   ],
   "source": [
    "mnist.head(5)"
   ]
  },
  {
   "cell_type": "code",
   "execution_count": 4,
   "metadata": {},
   "outputs": [],
   "source": [
    "mnist_class = mnist['label'].values"
   ]
  },
  {
   "cell_type": "code",
   "execution_count": 5,
   "metadata": {},
   "outputs": [
    {
     "data": {
      "text/plain": [
       "(42000,)"
      ]
     },
     "execution_count": 5,
     "metadata": {},
     "output_type": "execute_result"
    }
   ],
   "source": [
    "mnist_class.shape"
   ]
  },
  {
   "cell_type": "code",
   "execution_count": 6,
   "metadata": {},
   "outputs": [],
   "source": [
    "mnist_data = mnist.drop('label', axis=1).values"
   ]
  },
  {
   "cell_type": "code",
   "execution_count": 7,
   "metadata": {},
   "outputs": [
    {
     "data": {
      "text/plain": [
       "(42000, 784)"
      ]
     },
     "execution_count": 7,
     "metadata": {},
     "output_type": "execute_result"
    }
   ],
   "source": [
    "mnist_data.shape"
   ]
  },
  {
   "cell_type": "code",
   "execution_count": 8,
   "metadata": {},
   "outputs": [],
   "source": [
    "from sklearn.model_selection import train_test_split "
   ]
  },
  {
   "cell_type": "code",
   "execution_count": 9,
   "metadata": {},
   "outputs": [],
   "source": [
    "X_train, X_test, y_train, y_test = train_test_split(mnist_data, mnist_class,train_size=0.75, test_size=0.25)"
   ]
  },
  {
   "cell_type": "code",
   "execution_count": 10,
   "metadata": {},
   "outputs": [],
   "source": [
    "# setup parameters for xgboost\n",
    "param = {}\n",
    "# use softmax multi-class classification\n",
    "param['objective'] = 'multi:softmax'\n",
    "# scale weight of positive examples\n",
    "param['eta'] = 0.1\n",
    "param['max_depth'] = 6\n",
    "param['silent'] = 1\n",
    "param['nthread'] = 4\n",
    "param['num_class'] = 10\n",
    "param['eval_metric'] = \"mlogloss\"\n",
    "param['eval_metric'] = \"merror\""
   ]
  },
  {
   "cell_type": "code",
   "execution_count": 11,
   "metadata": {},
   "outputs": [
    {
     "data": {
      "text/plain": [
       "(31500, (31500, 784))"
      ]
     },
     "execution_count": 11,
     "metadata": {},
     "output_type": "execute_result"
    }
   ],
   "source": [
    "y_train.size, X_train.shape"
   ]
  },
  {
   "cell_type": "code",
   "execution_count": 12,
   "metadata": {},
   "outputs": [],
   "source": [
    "xg_train = xgb.DMatrix(X_train, label = y_train)"
   ]
  },
  {
   "cell_type": "code",
   "execution_count": 13,
   "metadata": {},
   "outputs": [],
   "source": [
    "xg_test = xgb.DMatrix(X_test, label = y_test)"
   ]
  },
  {
   "cell_type": "code",
   "execution_count": 14,
   "metadata": {},
   "outputs": [
    {
     "name": "stdout",
     "output_type": "stream",
     "text": [
      "[0]\ttrain-merror:0.133175\ttest-merror:0.159048\n",
      "[1]\ttrain-merror:0.105937\ttest-merror:0.126571\n",
      "[2]\ttrain-merror:0.088413\ttest-merror:0.112\n",
      "[3]\ttrain-merror:0.080317\ttest-merror:0.102571\n",
      "[4]\ttrain-merror:0.074381\ttest-merror:0.09619\n",
      "[5]\ttrain-merror:0.069968\ttest-merror:0.093524\n",
      "[6]\ttrain-merror:0.066571\ttest-merror:0.09019\n",
      "[7]\ttrain-merror:0.063016\ttest-merror:0.08819\n",
      "[8]\ttrain-merror:0.060476\ttest-merror:0.085143\n",
      "[9]\ttrain-merror:0.057524\ttest-merror:0.082571\n",
      "[10]\ttrain-merror:0.054889\ttest-merror:0.081048\n",
      "[11]\ttrain-merror:0.052762\ttest-merror:0.078476\n",
      "[12]\ttrain-merror:0.050476\ttest-merror:0.077238\n",
      "[13]\ttrain-merror:0.048984\ttest-merror:0.075714\n",
      "[14]\ttrain-merror:0.047587\ttest-merror:0.073048\n",
      "[15]\ttrain-merror:0.045429\ttest-merror:0.07181\n",
      "[16]\ttrain-merror:0.044032\ttest-merror:0.070571\n",
      "[17]\ttrain-merror:0.041905\ttest-merror:0.069143\n",
      "[18]\ttrain-merror:0.040825\ttest-merror:0.068095\n",
      "[19]\ttrain-merror:0.039302\ttest-merror:0.067429\n",
      "[20]\ttrain-merror:0.037778\ttest-merror:0.066286\n",
      "[21]\ttrain-merror:0.036317\ttest-merror:0.064762\n",
      "[22]\ttrain-merror:0.035143\ttest-merror:0.064952\n",
      "[23]\ttrain-merror:0.033873\ttest-merror:0.063524\n",
      "[24]\ttrain-merror:0.032317\ttest-merror:0.062571\n",
      "[25]\ttrain-merror:0.031206\ttest-merror:0.062\n",
      "[26]\ttrain-merror:0.030159\ttest-merror:0.060952\n",
      "[27]\ttrain-merror:0.02927\ttest-merror:0.059333\n",
      "[28]\ttrain-merror:0.028095\ttest-merror:0.058667\n",
      "[29]\ttrain-merror:0.027206\ttest-merror:0.058381\n",
      "[30]\ttrain-merror:0.026317\ttest-merror:0.057238\n",
      "[31]\ttrain-merror:0.025429\ttest-merror:0.057333\n",
      "[32]\ttrain-merror:0.024667\ttest-merror:0.056381\n",
      "[33]\ttrain-merror:0.023714\ttest-merror:0.055619\n",
      "[34]\ttrain-merror:0.02254\ttest-merror:0.055143\n",
      "[35]\ttrain-merror:0.021492\ttest-merror:0.054762\n",
      "[36]\ttrain-merror:0.020667\ttest-merror:0.05419\n",
      "[37]\ttrain-merror:0.020095\ttest-merror:0.052857\n",
      "[38]\ttrain-merror:0.01946\ttest-merror:0.052381\n",
      "[39]\ttrain-merror:0.018698\ttest-merror:0.051429\n",
      "[40]\ttrain-merror:0.017683\ttest-merror:0.050762\n",
      "[41]\ttrain-merror:0.017238\ttest-merror:0.05019\n",
      "[42]\ttrain-merror:0.016698\ttest-merror:0.048952\n",
      "[43]\ttrain-merror:0.016286\ttest-merror:0.048667\n",
      "[44]\ttrain-merror:0.015302\ttest-merror:0.047714\n",
      "[45]\ttrain-merror:0.014667\ttest-merror:0.047429\n",
      "[46]\ttrain-merror:0.013937\ttest-merror:0.047429\n",
      "[47]\ttrain-merror:0.013524\ttest-merror:0.047143\n",
      "[48]\ttrain-merror:0.012825\ttest-merror:0.046952\n",
      "[49]\ttrain-merror:0.01219\ttest-merror:0.046857\n",
      "[50]\ttrain-merror:0.011683\ttest-merror:0.046095\n",
      "[51]\ttrain-merror:0.011333\ttest-merror:0.04581\n",
      "[52]\ttrain-merror:0.010762\ttest-merror:0.045333\n",
      "[53]\ttrain-merror:0.010349\ttest-merror:0.045429\n",
      "[54]\ttrain-merror:0.009968\ttest-merror:0.044952\n",
      "[55]\ttrain-merror:0.009683\ttest-merror:0.044667\n",
      "[56]\ttrain-merror:0.009365\ttest-merror:0.044095\n",
      "[57]\ttrain-merror:0.008762\ttest-merror:0.043048\n",
      "[58]\ttrain-merror:0.008476\ttest-merror:0.043048\n",
      "[59]\ttrain-merror:0.008349\ttest-merror:0.042762\n",
      "[60]\ttrain-merror:0.008032\ttest-merror:0.042476\n",
      "[61]\ttrain-merror:0.007683\ttest-merror:0.04219\n",
      "[62]\ttrain-merror:0.007302\ttest-merror:0.04219\n",
      "[63]\ttrain-merror:0.006952\ttest-merror:0.041714\n",
      "[64]\ttrain-merror:0.006857\ttest-merror:0.041524\n",
      "[65]\ttrain-merror:0.006571\ttest-merror:0.041714\n",
      "[66]\ttrain-merror:0.006222\ttest-merror:0.041429\n",
      "[67]\ttrain-merror:0.005841\ttest-merror:0.040762\n",
      "[68]\ttrain-merror:0.005714\ttest-merror:0.040571\n",
      "[69]\ttrain-merror:0.005397\ttest-merror:0.040571\n",
      "[70]\ttrain-merror:0.005238\ttest-merror:0.04\n",
      "[71]\ttrain-merror:0.004984\ttest-merror:0.039333\n",
      "[72]\ttrain-merror:0.004762\ttest-merror:0.038952\n",
      "[73]\ttrain-merror:0.004667\ttest-merror:0.038952\n",
      "[74]\ttrain-merror:0.004381\ttest-merror:0.038476\n",
      "[75]\ttrain-merror:0.00419\ttest-merror:0.038476\n",
      "[76]\ttrain-merror:0.003937\ttest-merror:0.03819\n",
      "[77]\ttrain-merror:0.003714\ttest-merror:0.038095\n",
      "[78]\ttrain-merror:0.003492\ttest-merror:0.038286\n",
      "[79]\ttrain-merror:0.003302\ttest-merror:0.037905\n",
      "[80]\ttrain-merror:0.003175\ttest-merror:0.037429\n",
      "[81]\ttrain-merror:0.002952\ttest-merror:0.037619\n",
      "[82]\ttrain-merror:0.002825\ttest-merror:0.037619\n",
      "[83]\ttrain-merror:0.002571\ttest-merror:0.037048\n",
      "[84]\ttrain-merror:0.002476\ttest-merror:0.037048\n",
      "[85]\ttrain-merror:0.002381\ttest-merror:0.037143\n",
      "[86]\ttrain-merror:0.002254\ttest-merror:0.037143\n",
      "[87]\ttrain-merror:0.002063\ttest-merror:0.036952\n",
      "[88]\ttrain-merror:0.001968\ttest-merror:0.036667\n",
      "[89]\ttrain-merror:0.001968\ttest-merror:0.036381\n",
      "[90]\ttrain-merror:0.001778\ttest-merror:0.036286\n",
      "[91]\ttrain-merror:0.001683\ttest-merror:0.036095\n",
      "[92]\ttrain-merror:0.001587\ttest-merror:0.035905\n",
      "[93]\ttrain-merror:0.00146\ttest-merror:0.035905\n",
      "[94]\ttrain-merror:0.00146\ttest-merror:0.035714\n",
      "[95]\ttrain-merror:0.001365\ttest-merror:0.036095\n",
      "[96]\ttrain-merror:0.001302\ttest-merror:0.035905\n",
      "[97]\ttrain-merror:0.001206\ttest-merror:0.03619\n",
      "[98]\ttrain-merror:0.001143\ttest-merror:0.036095\n",
      "[99]\ttrain-merror:0.001143\ttest-merror:0.036095\n",
      "[100]\ttrain-merror:0.001111\ttest-merror:0.035619\n",
      "[101]\ttrain-merror:0.001048\ttest-merror:0.035429\n",
      "[102]\ttrain-merror:0.001016\ttest-merror:0.035333\n",
      "[103]\ttrain-merror:0.000984\ttest-merror:0.035143\n",
      "[104]\ttrain-merror:0.000984\ttest-merror:0.034952\n",
      "[105]\ttrain-merror:0.000921\ttest-merror:0.034952\n",
      "[106]\ttrain-merror:0.000857\ttest-merror:0.034952\n",
      "[107]\ttrain-merror:0.000825\ttest-merror:0.034571\n",
      "[108]\ttrain-merror:0.000794\ttest-merror:0.03419\n",
      "[109]\ttrain-merror:0.00073\ttest-merror:0.034095\n",
      "[110]\ttrain-merror:0.000698\ttest-merror:0.034\n",
      "[111]\ttrain-merror:0.000635\ttest-merror:0.03381\n",
      "[112]\ttrain-merror:0.000571\ttest-merror:0.03381\n",
      "[113]\ttrain-merror:0.000508\ttest-merror:0.033524\n",
      "[114]\ttrain-merror:0.000476\ttest-merror:0.033143\n",
      "[115]\ttrain-merror:0.000476\ttest-merror:0.033143\n",
      "[116]\ttrain-merror:0.000444\ttest-merror:0.032952\n",
      "[117]\ttrain-merror:0.000444\ttest-merror:0.032571\n",
      "[118]\ttrain-merror:0.000381\ttest-merror:0.032762\n",
      "[119]\ttrain-merror:0.000317\ttest-merror:0.032571\n",
      "[120]\ttrain-merror:0.000286\ttest-merror:0.032667\n",
      "[121]\ttrain-merror:0.000286\ttest-merror:0.03219\n",
      "[122]\ttrain-merror:0.000254\ttest-merror:0.031905\n",
      "[123]\ttrain-merror:0.000254\ttest-merror:0.032095\n",
      "[124]\ttrain-merror:0.000254\ttest-merror:0.03219\n",
      "[125]\ttrain-merror:0.000254\ttest-merror:0.03219\n",
      "[126]\ttrain-merror:0.00019\ttest-merror:0.03181\n",
      "[127]\ttrain-merror:0.00019\ttest-merror:0.031714\n",
      "[128]\ttrain-merror:0.00019\ttest-merror:0.031524\n",
      "[129]\ttrain-merror:0.000159\ttest-merror:0.03181\n",
      "[130]\ttrain-merror:0.000127\ttest-merror:0.031714\n",
      "[131]\ttrain-merror:9.5e-05\ttest-merror:0.031524\n",
      "[132]\ttrain-merror:6.3e-05\ttest-merror:0.031429\n",
      "[133]\ttrain-merror:6.3e-05\ttest-merror:0.031619\n",
      "[134]\ttrain-merror:6.3e-05\ttest-merror:0.031143\n",
      "[135]\ttrain-merror:3.2e-05\ttest-merror:0.031333\n",
      "[136]\ttrain-merror:3.2e-05\ttest-merror:0.031143\n",
      "[137]\ttrain-merror:3.2e-05\ttest-merror:0.031048\n",
      "[138]\ttrain-merror:3.2e-05\ttest-merror:0.030857\n",
      "[139]\ttrain-merror:3.2e-05\ttest-merror:0.030762\n",
      "[140]\ttrain-merror:3.2e-05\ttest-merror:0.030571\n",
      "[141]\ttrain-merror:3.2e-05\ttest-merror:0.030476\n",
      "[142]\ttrain-merror:3.2e-05\ttest-merror:0.030571\n",
      "[143]\ttrain-merror:3.2e-05\ttest-merror:0.030286\n",
      "[144]\ttrain-merror:3.2e-05\ttest-merror:0.03019\n",
      "[145]\ttrain-merror:0\ttest-merror:0.030095\n",
      "[146]\ttrain-merror:0\ttest-merror:0.029714\n",
      "[147]\ttrain-merror:0\ttest-merror:0.02981\n",
      "[148]\ttrain-merror:0\ttest-merror:0.029524\n",
      "[149]\ttrain-merror:0\ttest-merror:0.029429\n"
     ]
    }
   ],
   "source": [
    "watchlist = [(xg_train, 'train'), (xg_test, 'test')]\n",
    "num_round = 150\n",
    "bst = xgb.train(param, xg_train, num_round, watchlist)"
   ]
  },
  {
   "cell_type": "code",
   "execution_count": 15,
   "metadata": {},
   "outputs": [
    {
     "data": {
      "text/html": [
       "<div>\n",
       "<style scoped>\n",
       "    .dataframe tbody tr th:only-of-type {\n",
       "        vertical-align: middle;\n",
       "    }\n",
       "\n",
       "    .dataframe tbody tr th {\n",
       "        vertical-align: top;\n",
       "    }\n",
       "\n",
       "    .dataframe thead th {\n",
       "        text-align: right;\n",
       "    }\n",
       "</style>\n",
       "<table border=\"1\" class=\"dataframe\">\n",
       "  <thead>\n",
       "    <tr style=\"text-align: right;\">\n",
       "      <th></th>\n",
       "      <th>pixel0</th>\n",
       "      <th>pixel1</th>\n",
       "      <th>pixel2</th>\n",
       "      <th>pixel3</th>\n",
       "      <th>pixel4</th>\n",
       "      <th>pixel5</th>\n",
       "      <th>pixel6</th>\n",
       "      <th>pixel7</th>\n",
       "      <th>pixel8</th>\n",
       "      <th>pixel9</th>\n",
       "      <th>...</th>\n",
       "      <th>pixel774</th>\n",
       "      <th>pixel775</th>\n",
       "      <th>pixel776</th>\n",
       "      <th>pixel777</th>\n",
       "      <th>pixel778</th>\n",
       "      <th>pixel779</th>\n",
       "      <th>pixel780</th>\n",
       "      <th>pixel781</th>\n",
       "      <th>pixel782</th>\n",
       "      <th>pixel783</th>\n",
       "    </tr>\n",
       "  </thead>\n",
       "  <tbody>\n",
       "    <tr>\n",
       "      <th>0</th>\n",
       "      <td>0</td>\n",
       "      <td>0</td>\n",
       "      <td>0</td>\n",
       "      <td>0</td>\n",
       "      <td>0</td>\n",
       "      <td>0</td>\n",
       "      <td>0</td>\n",
       "      <td>0</td>\n",
       "      <td>0</td>\n",
       "      <td>0</td>\n",
       "      <td>...</td>\n",
       "      <td>0</td>\n",
       "      <td>0</td>\n",
       "      <td>0</td>\n",
       "      <td>0</td>\n",
       "      <td>0</td>\n",
       "      <td>0</td>\n",
       "      <td>0</td>\n",
       "      <td>0</td>\n",
       "      <td>0</td>\n",
       "      <td>0</td>\n",
       "    </tr>\n",
       "    <tr>\n",
       "      <th>1</th>\n",
       "      <td>0</td>\n",
       "      <td>0</td>\n",
       "      <td>0</td>\n",
       "      <td>0</td>\n",
       "      <td>0</td>\n",
       "      <td>0</td>\n",
       "      <td>0</td>\n",
       "      <td>0</td>\n",
       "      <td>0</td>\n",
       "      <td>0</td>\n",
       "      <td>...</td>\n",
       "      <td>0</td>\n",
       "      <td>0</td>\n",
       "      <td>0</td>\n",
       "      <td>0</td>\n",
       "      <td>0</td>\n",
       "      <td>0</td>\n",
       "      <td>0</td>\n",
       "      <td>0</td>\n",
       "      <td>0</td>\n",
       "      <td>0</td>\n",
       "    </tr>\n",
       "    <tr>\n",
       "      <th>2</th>\n",
       "      <td>0</td>\n",
       "      <td>0</td>\n",
       "      <td>0</td>\n",
       "      <td>0</td>\n",
       "      <td>0</td>\n",
       "      <td>0</td>\n",
       "      <td>0</td>\n",
       "      <td>0</td>\n",
       "      <td>0</td>\n",
       "      <td>0</td>\n",
       "      <td>...</td>\n",
       "      <td>0</td>\n",
       "      <td>0</td>\n",
       "      <td>0</td>\n",
       "      <td>0</td>\n",
       "      <td>0</td>\n",
       "      <td>0</td>\n",
       "      <td>0</td>\n",
       "      <td>0</td>\n",
       "      <td>0</td>\n",
       "      <td>0</td>\n",
       "    </tr>\n",
       "    <tr>\n",
       "      <th>3</th>\n",
       "      <td>0</td>\n",
       "      <td>0</td>\n",
       "      <td>0</td>\n",
       "      <td>0</td>\n",
       "      <td>0</td>\n",
       "      <td>0</td>\n",
       "      <td>0</td>\n",
       "      <td>0</td>\n",
       "      <td>0</td>\n",
       "      <td>0</td>\n",
       "      <td>...</td>\n",
       "      <td>0</td>\n",
       "      <td>0</td>\n",
       "      <td>0</td>\n",
       "      <td>0</td>\n",
       "      <td>0</td>\n",
       "      <td>0</td>\n",
       "      <td>0</td>\n",
       "      <td>0</td>\n",
       "      <td>0</td>\n",
       "      <td>0</td>\n",
       "    </tr>\n",
       "    <tr>\n",
       "      <th>4</th>\n",
       "      <td>0</td>\n",
       "      <td>0</td>\n",
       "      <td>0</td>\n",
       "      <td>0</td>\n",
       "      <td>0</td>\n",
       "      <td>0</td>\n",
       "      <td>0</td>\n",
       "      <td>0</td>\n",
       "      <td>0</td>\n",
       "      <td>0</td>\n",
       "      <td>...</td>\n",
       "      <td>0</td>\n",
       "      <td>0</td>\n",
       "      <td>0</td>\n",
       "      <td>0</td>\n",
       "      <td>0</td>\n",
       "      <td>0</td>\n",
       "      <td>0</td>\n",
       "      <td>0</td>\n",
       "      <td>0</td>\n",
       "      <td>0</td>\n",
       "    </tr>\n",
       "  </tbody>\n",
       "</table>\n",
       "<p>5 rows × 784 columns</p>\n",
       "</div>"
      ],
      "text/plain": [
       "   pixel0  pixel1  pixel2  pixel3  pixel4  pixel5  pixel6  pixel7  pixel8  \\\n",
       "0       0       0       0       0       0       0       0       0       0   \n",
       "1       0       0       0       0       0       0       0       0       0   \n",
       "2       0       0       0       0       0       0       0       0       0   \n",
       "3       0       0       0       0       0       0       0       0       0   \n",
       "4       0       0       0       0       0       0       0       0       0   \n",
       "\n",
       "   pixel9    ...     pixel774  pixel775  pixel776  pixel777  pixel778  \\\n",
       "0       0    ...            0         0         0         0         0   \n",
       "1       0    ...            0         0         0         0         0   \n",
       "2       0    ...            0         0         0         0         0   \n",
       "3       0    ...            0         0         0         0         0   \n",
       "4       0    ...            0         0         0         0         0   \n",
       "\n",
       "   pixel779  pixel780  pixel781  pixel782  pixel783  \n",
       "0         0         0         0         0         0  \n",
       "1         0         0         0         0         0  \n",
       "2         0         0         0         0         0  \n",
       "3         0         0         0         0         0  \n",
       "4         0         0         0         0         0  \n",
       "\n",
       "[5 rows x 784 columns]"
      ]
     },
     "execution_count": 15,
     "metadata": {},
     "output_type": "execute_result"
    }
   ],
   "source": [
    "mnist_submit = pd.read_csv('dataset/test.csv')\n",
    "mnist_submit.head(5)"
   ]
  },
  {
   "cell_type": "code",
   "execution_count": 16,
   "metadata": {},
   "outputs": [],
   "source": [
    "mnist_submit_data = mnist_submit.values"
   ]
  },
  {
   "cell_type": "code",
   "execution_count": 17,
   "metadata": {},
   "outputs": [],
   "source": [
    "mnist_submit_data.shape\n",
    "dtest = xgb.DMatrix(mnist_submit_data)"
   ]
  },
  {
   "cell_type": "code",
   "execution_count": 18,
   "metadata": {},
   "outputs": [],
   "source": [
    "submission_pred = bst.predict(dtest)"
   ]
  },
  {
   "cell_type": "code",
   "execution_count": 19,
   "metadata": {},
   "outputs": [
    {
     "data": {
      "text/plain": [
       "(28000,)"
      ]
     },
     "execution_count": 19,
     "metadata": {},
     "output_type": "execute_result"
    }
   ],
   "source": [
    "submission_pred.shape"
   ]
  },
  {
   "cell_type": "code",
   "execution_count": 20,
   "metadata": {},
   "outputs": [],
   "source": [
    "id = mnist_submit.index.values + 1\n"
   ]
  },
  {
   "cell_type": "code",
   "execution_count": 21,
   "metadata": {},
   "outputs": [],
   "source": [
    "final = pd.DataFrame({'ImageId': id, 'Label': submission_pred.astype(int)})"
   ]
  },
  {
   "cell_type": "code",
   "execution_count": 22,
   "metadata": {},
   "outputs": [
    {
     "data": {
      "text/html": [
       "<div>\n",
       "<style scoped>\n",
       "    .dataframe tbody tr th:only-of-type {\n",
       "        vertical-align: middle;\n",
       "    }\n",
       "\n",
       "    .dataframe tbody tr th {\n",
       "        vertical-align: top;\n",
       "    }\n",
       "\n",
       "    .dataframe thead th {\n",
       "        text-align: right;\n",
       "    }\n",
       "</style>\n",
       "<table border=\"1\" class=\"dataframe\">\n",
       "  <thead>\n",
       "    <tr style=\"text-align: right;\">\n",
       "      <th></th>\n",
       "      <th>ImageId</th>\n",
       "      <th>Label</th>\n",
       "    </tr>\n",
       "  </thead>\n",
       "  <tbody>\n",
       "    <tr>\n",
       "      <th>0</th>\n",
       "      <td>1</td>\n",
       "      <td>2</td>\n",
       "    </tr>\n",
       "    <tr>\n",
       "      <th>1</th>\n",
       "      <td>2</td>\n",
       "      <td>0</td>\n",
       "    </tr>\n",
       "    <tr>\n",
       "      <th>2</th>\n",
       "      <td>3</td>\n",
       "      <td>9</td>\n",
       "    </tr>\n",
       "    <tr>\n",
       "      <th>3</th>\n",
       "      <td>4</td>\n",
       "      <td>7</td>\n",
       "    </tr>\n",
       "    <tr>\n",
       "      <th>4</th>\n",
       "      <td>5</td>\n",
       "      <td>3</td>\n",
       "    </tr>\n",
       "  </tbody>\n",
       "</table>\n",
       "</div>"
      ],
      "text/plain": [
       "   ImageId  Label\n",
       "0        1      2\n",
       "1        2      0\n",
       "2        3      9\n",
       "3        4      7\n",
       "4        5      3"
      ]
     },
     "execution_count": 22,
     "metadata": {},
     "output_type": "execute_result"
    }
   ],
   "source": [
    "final.head(5)"
   ]
  },
  {
   "cell_type": "code",
   "execution_count": 23,
   "metadata": {},
   "outputs": [
    {
     "data": {
      "text/plain": [
       "(28000, 2)"
      ]
     },
     "execution_count": 23,
     "metadata": {},
     "output_type": "execute_result"
    }
   ],
   "source": [
    "final.shape"
   ]
  },
  {
   "cell_type": "code",
   "execution_count": 24,
   "metadata": {},
   "outputs": [],
   "source": [
    "final.to_csv('dataset/submission.csv', index = False)"
   ]
  },
  {
   "cell_type": "code",
   "execution_count": 25,
   "metadata": {},
   "outputs": [
    {
     "data": {
      "text/plain": [
       "(28000, 784)"
      ]
     },
     "execution_count": 25,
     "metadata": {},
     "output_type": "execute_result"
    }
   ],
   "source": [
    "mnist_submit.shape"
   ]
  },
  {
   "cell_type": "code",
   "execution_count": 26,
   "metadata": {},
   "outputs": [
    {
     "data": {
      "text/plain": [
       "array([ 2.,  0.,  9.,  7.,  3.,  7.,  0.,  3.,  0.,  3.], dtype=float32)"
      ]
     },
     "execution_count": 26,
     "metadata": {},
     "output_type": "execute_result"
    }
   ],
   "source": [
    "submission_pred[:10]"
   ]
  },
  {
   "cell_type": "code",
   "execution_count": 27,
   "metadata": {},
   "outputs": [
    {
     "data": {
      "text/plain": [
       "<matplotlib.axes._subplots.AxesSubplot at 0x7fbb88d15c50>"
      ]
     },
     "execution_count": 27,
     "metadata": {},
     "output_type": "execute_result"
    }
   ],
   "source": [
    "xgb.plot_importance(bst)"
   ]
  },
  {
   "cell_type": "code",
   "execution_count": 29,
   "metadata": {},
   "outputs": [],
   "source": [
    "bst.save_model('xgboost-mnist-v1.3')"
   ]
  },
  {
   "cell_type": "code",
   "execution_count": null,
   "metadata": {},
   "outputs": [],
   "source": []
  }
 ],
 "metadata": {
  "kernelspec": {
   "display_name": "Python 3",
   "language": "python",
   "name": "python3"
  },
  "language_info": {
   "codemirror_mode": {
    "name": "ipython",
    "version": 3
   },
   "file_extension": ".py",
   "mimetype": "text/x-python",
   "name": "python",
   "nbconvert_exporter": "python",
   "pygments_lexer": "ipython3",
   "version": "3.5.4"
  }
 },
 "nbformat": 4,
 "nbformat_minor": 2
}
